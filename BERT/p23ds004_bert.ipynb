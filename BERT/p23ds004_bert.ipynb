{
 "cells": [
  {
   "cell_type": "markdown",
   "id": "dab99aa3",
   "metadata": {},
   "source": [
    "## BERT\n",
    "## Created by: Harsh Bari\n",
    "## From: SVNIT, Gujarat\n",
    "## Mtech Data Science - p23ds004 (2023-25)\n",
    "## Subject: NLP Project\n",
    "## Last Updated:"
   ]
  },
  {
   "cell_type": "code",
   "execution_count": 1,
   "id": "d6d46132",
   "metadata": {},
   "outputs": [],
   "source": [
    "import pandas as pd\n",
    "import numpy as np"
   ]
  },
  {
   "cell_type": "code",
   "execution_count": 2,
   "id": "ec132b95",
   "metadata": {},
   "outputs": [],
   "source": [
    "data = pd.read_csv(\"dataset.csv\")"
   ]
  },
  {
   "cell_type": "code",
   "execution_count": 3,
   "id": "a423629a",
   "metadata": {},
   "outputs": [
    {
     "data": {
      "text/html": [
       "<div>\n",
       "<style scoped>\n",
       "    .dataframe tbody tr th:only-of-type {\n",
       "        vertical-align: middle;\n",
       "    }\n",
       "\n",
       "    .dataframe tbody tr th {\n",
       "        vertical-align: top;\n",
       "    }\n",
       "\n",
       "    .dataframe thead th {\n",
       "        text-align: right;\n",
       "    }\n",
       "</style>\n",
       "<table border=\"1\" class=\"dataframe\">\n",
       "  <thead>\n",
       "    <tr style=\"text-align: right;\">\n",
       "      <th></th>\n",
       "      <th>tweets</th>\n",
       "      <th>class</th>\n",
       "      <th>target</th>\n",
       "      <th>bert_vectors</th>\n",
       "    </tr>\n",
       "  </thead>\n",
       "  <tbody>\n",
       "    <tr>\n",
       "      <th>0</th>\n",
       "      <td>Be aware  dirty step to get money  #staylight ...</td>\n",
       "      <td>figurative</td>\n",
       "      <td>0.0</td>\n",
       "      <td>[ 0.5142972   0.09474187  0.41039863 -0.086846...</td>\n",
       "    </tr>\n",
       "    <tr>\n",
       "      <th>1</th>\n",
       "      <td>#sarcasm for #people who don't understand #diy...</td>\n",
       "      <td>figurative</td>\n",
       "      <td>0.0</td>\n",
       "      <td>[ 0.60709447  0.24507785  0.30069906 -0.095903...</td>\n",
       "    </tr>\n",
       "    <tr>\n",
       "      <th>2</th>\n",
       "      <td>@IminworkJeremy @medsingle #DailyMail readers ...</td>\n",
       "      <td>figurative</td>\n",
       "      <td>0.0</td>\n",
       "      <td>[ 0.12725917  0.07618354  0.5803481   0.085881...</td>\n",
       "    </tr>\n",
       "    <tr>\n",
       "      <th>3</th>\n",
       "      <td>@wilw Why do I get the feeling you like games?...</td>\n",
       "      <td>figurative</td>\n",
       "      <td>0.0</td>\n",
       "      <td>[ 4.73182350e-01  5.66805065e-01  3.70653301e-...</td>\n",
       "    </tr>\n",
       "    <tr>\n",
       "      <th>4</th>\n",
       "      <td>-@TeacherArthurG @rweingarten You probably jus...</td>\n",
       "      <td>figurative</td>\n",
       "      <td>0.0</td>\n",
       "      <td>[ 0.50476366  0.16474849  0.34438178  0.067346...</td>\n",
       "    </tr>\n",
       "    <tr>\n",
       "      <th>...</th>\n",
       "      <td>...</td>\n",
       "      <td>...</td>\n",
       "      <td>...</td>\n",
       "      <td>...</td>\n",
       "    </tr>\n",
       "    <tr>\n",
       "      <th>81403</th>\n",
       "      <td>Photo: Image via We Heart It http://t.co/ky8Nf...</td>\n",
       "      <td>sarcasm</td>\n",
       "      <td>1.0</td>\n",
       "      <td>[ 2.27706909e-01 -4.00034375e-02  5.59347928e-...</td>\n",
       "    </tr>\n",
       "    <tr>\n",
       "      <th>81404</th>\n",
       "      <td>I never knew..I better put this out to the Uni...</td>\n",
       "      <td>sarcasm</td>\n",
       "      <td>1.0</td>\n",
       "      <td>[ 0.21134636  0.16012657  0.7607299  -0.195773...</td>\n",
       "    </tr>\n",
       "    <tr>\n",
       "      <th>81405</th>\n",
       "      <td>hey just wanted to say thanks @ puberty for le...</td>\n",
       "      <td>sarcasm</td>\n",
       "      <td>1.0</td>\n",
       "      <td>[ 0.39612132  0.26797482  0.8456364  -0.222941...</td>\n",
       "    </tr>\n",
       "    <tr>\n",
       "      <th>81406</th>\n",
       "      <td>I'm sure coverage like the Fox News Special “T...</td>\n",
       "      <td>sarcasm</td>\n",
       "      <td>1.0</td>\n",
       "      <td>[ 0.35054675 -0.17652354  0.36843812 -0.002357...</td>\n",
       "    </tr>\n",
       "    <tr>\n",
       "      <th>81407</th>\n",
       "      <td>@skeyno16 at u13?! I won't believe it until I ...</td>\n",
       "      <td>sarcasm</td>\n",
       "      <td>1.0</td>\n",
       "      <td>[ 0.34130692  0.04276937  0.69224215 -0.030625...</td>\n",
       "    </tr>\n",
       "  </tbody>\n",
       "</table>\n",
       "<p>81408 rows × 4 columns</p>\n",
       "</div>"
      ],
      "text/plain": [
       "                                                  tweets       class  target  \\\n",
       "0      Be aware  dirty step to get money  #staylight ...  figurative     0.0   \n",
       "1      #sarcasm for #people who don't understand #diy...  figurative     0.0   \n",
       "2      @IminworkJeremy @medsingle #DailyMail readers ...  figurative     0.0   \n",
       "3      @wilw Why do I get the feeling you like games?...  figurative     0.0   \n",
       "4      -@TeacherArthurG @rweingarten You probably jus...  figurative     0.0   \n",
       "...                                                  ...         ...     ...   \n",
       "81403  Photo: Image via We Heart It http://t.co/ky8Nf...     sarcasm     1.0   \n",
       "81404  I never knew..I better put this out to the Uni...     sarcasm     1.0   \n",
       "81405  hey just wanted to say thanks @ puberty for le...     sarcasm     1.0   \n",
       "81406  I'm sure coverage like the Fox News Special “T...     sarcasm     1.0   \n",
       "81407  @skeyno16 at u13?! I won't believe it until I ...     sarcasm     1.0   \n",
       "\n",
       "                                            bert_vectors  \n",
       "0      [ 0.5142972   0.09474187  0.41039863 -0.086846...  \n",
       "1      [ 0.60709447  0.24507785  0.30069906 -0.095903...  \n",
       "2      [ 0.12725917  0.07618354  0.5803481   0.085881...  \n",
       "3      [ 4.73182350e-01  5.66805065e-01  3.70653301e-...  \n",
       "4      [ 0.50476366  0.16474849  0.34438178  0.067346...  \n",
       "...                                                  ...  \n",
       "81403  [ 2.27706909e-01 -4.00034375e-02  5.59347928e-...  \n",
       "81404  [ 0.21134636  0.16012657  0.7607299  -0.195773...  \n",
       "81405  [ 0.39612132  0.26797482  0.8456364  -0.222941...  \n",
       "81406  [ 0.35054675 -0.17652354  0.36843812 -0.002357...  \n",
       "81407  [ 0.34130692  0.04276937  0.69224215 -0.030625...  \n",
       "\n",
       "[81408 rows x 4 columns]"
      ]
     },
     "execution_count": 3,
     "metadata": {},
     "output_type": "execute_result"
    }
   ],
   "source": [
    "data"
   ]
  },
  {
   "cell_type": "code",
   "execution_count": 4,
   "id": "403fcaff",
   "metadata": {},
   "outputs": [
    {
     "data": {
      "text/plain": [
       "0        [ 0.5142972   0.09474187  0.41039863 -0.086846...\n",
       "1        [ 0.60709447  0.24507785  0.30069906 -0.095903...\n",
       "2        [ 0.12725917  0.07618354  0.5803481   0.085881...\n",
       "3        [ 4.73182350e-01  5.66805065e-01  3.70653301e-...\n",
       "4        [ 0.50476366  0.16474849  0.34438178  0.067346...\n",
       "                               ...                        \n",
       "81403    [ 2.27706909e-01 -4.00034375e-02  5.59347928e-...\n",
       "81404    [ 0.21134636  0.16012657  0.7607299  -0.195773...\n",
       "81405    [ 0.39612132  0.26797482  0.8456364  -0.222941...\n",
       "81406    [ 0.35054675 -0.17652354  0.36843812 -0.002357...\n",
       "81407    [ 0.34130692  0.04276937  0.69224215 -0.030625...\n",
       "Name: bert_vectors, Length: 81408, dtype: object"
      ]
     },
     "execution_count": 4,
     "metadata": {},
     "output_type": "execute_result"
    }
   ],
   "source": [
    "data['bert_vectors']"
   ]
  },
  {
   "cell_type": "code",
   "execution_count": 5,
   "id": "8952e2da",
   "metadata": {},
   "outputs": [
    {
     "data": {
      "text/plain": [
       "'[ 0.5142972   0.09474187  0.41039863 -0.08684609  0.2877095  -0.16383709\\n  0.40892476  0.44171068 -0.01723384 -0.26785442 -0.16827619 -0.22784133\\n -0.31953806  0.275655   -0.10393742  0.49432114 -0.02620821  0.2063558\\n -0.23674724  0.25816718  0.34353077  0.0214939  -0.13152978  0.11771113\\n  0.49273565 -0.15442434  0.10735898 -0.15738115 -0.3916646  -0.16478181\\n  0.49133274 -0.04270812  0.237843   -0.20905466  0.06037405 -0.17967163\\n -0.31194413 -0.0389487   0.29511118  0.44777897 -0.36570454 -0.5686758\\n  0.19408512  0.02260724 -0.31137243 -0.28884372  0.2681975   0.26582816\\n  0.33216658 -0.15465686 -0.2563196   0.3087412  -0.09471447 -0.08942274\\n  0.0777904   0.74242663  0.3745379  -0.45100695 -0.43329164 -0.02466331\\n -0.16693549  0.08048202  0.26112032 -0.30901015  0.12328291  0.21376407\\n -0.0388822   0.6823772  -1.0520166   0.28137955 -0.01561841 -0.03059365\\n -0.06478383  0.13605814  0.01955121  0.20722364 -0.10848905  0.6780405\\n  0.31807926 -0.0370811   0.05020353  0.16420896  0.10430315  0.38346\\n  0.19076318  0.27409777  0.11541953 -0.00839414 -0.60080236  0.47035944\\n -0.05057348  0.08532551  0.19232303  0.20832938  0.40885463 -0.42770848\\n  0.01001668 -0.3563449  -0.24444808  0.3981791   0.30680826 -0.26975936\\n -0.02268203  0.10180932 -0.46551192  0.16729726 -0.01927103 -0.12172183\\n  0.12085328  0.32595316  0.14308026  0.17479685 -0.05908208 -0.4421207\\n  0.24812964  0.16455555  0.15420035  0.206105    0.23889849  0.03915282\\n -0.02392515  0.22758889  0.21866032  0.78823656  0.20028736  0.3199013\\n -0.40904292  0.2744289   0.16341347  0.12637198  0.41490802  0.29418418\\n -0.08437694 -0.54106766 -0.11171681 -0.07831711 -0.02037072 -0.10411447\\n -0.11889234 -0.14834784 -0.08240354 -0.39731655  0.12649344  0.1883826\\n  0.09964897 -0.01768736  0.12272178  0.03364825 -0.17410624  0.5015001 ]'"
      ]
     },
     "execution_count": 5,
     "metadata": {},
     "output_type": "execute_result"
    }
   ],
   "source": [
    "data['bert_vectors'][0]"
   ]
  },
  {
   "cell_type": "code",
   "execution_count": 6,
   "id": "92770fb4",
   "metadata": {},
   "outputs": [
    {
     "data": {
      "text/plain": [
       "class\n",
       "figurative    21238\n",
       "irony         20894\n",
       "sarcasm       20681\n",
       "regular       18595\n",
       "Name: count, dtype: int64"
      ]
     },
     "execution_count": 6,
     "metadata": {},
     "output_type": "execute_result"
    }
   ],
   "source": [
    "data['class'].value_counts()"
   ]
  },
  {
   "cell_type": "code",
   "execution_count": 7,
   "id": "d9913f12",
   "metadata": {},
   "outputs": [
    {
     "name": "stdout",
     "output_type": "stream",
     "text": [
      "<class 'str'>\n"
     ]
    }
   ],
   "source": [
    "print(type(data['bert_vectors'][0]))"
   ]
  },
  {
   "cell_type": "code",
   "execution_count": 8,
   "id": "25d079a5",
   "metadata": {},
   "outputs": [],
   "source": [
    "def str_to_vec(input_string):\n",
    "    # Your input string\n",
    "    # input_string = \"[ 0.47350284 0.17998783 0.52607228 -0.21903914 0.50474907 -0.84181457\\n 0.80536147 1.04832851 -0.31514828 -0.6643499 0.23167278 -0.84063938\\n -0.42383317 0.31786839 0.38651903 0.43740021 0.19098905 0.03756036\\n -0.37013237 -0.86544681 -0.60763254 -0.3359968 0.57907489 0.11688197\\n 0.51970026 -0.2024598 -0.29698118 -0.15100316 0.13487357 -0.38675231\\n 0.19580726 -0.21120347 -0.32096125 0.81528131 -0.12422152 -0.02690754\\n -0.01132907 0.1541235 0.69146074 0.26843169 0.6963023 -0.79966018\\n -0.21509953 -0.3805155 0.18800793 0.66235928 0.14572814 -0.41985339\\n -0.28700945 -0.28272397 0.25726554 -0.37221263 0.02272534 -0.4292531\\n -0.34494111 -0.10192458 -0.00632285 0.42416801 -0.18897754 -0.21455062\\n -0.80645763 0.41921128 0.23389137 0.17909839 -0.37738952 0.55195239\\n 0.03543126 -0.0540801 0.05538673 -0.29212652 -0.54393175 0.07931972\\n -0.01140794 0.89003169 -0.164462 -0.37368158 0.09018268 -0.305098\\n 0.14973728 0.44211518 -0.08145603 0.43468505 -0.74777054 0.15402889\\n 0.61750253 -0.09117783 0.61714293 0.33495427 -0.02995716 0.0333282\\n 0.71559205 -0.37184732 0.23758197 0.56563806 0.24524485 -0.22222566\\n 0.57311822 -0.14456244 -0.71279361 -0.51761399]\"\n",
    "\n",
    "    # Remove brackets and newline characters\n",
    "    cleaned_string = input_string.replace('[', '').replace(']', '').replace('\\n', '')\n",
    "\n",
    "    # Split the string into a list of strings\n",
    "    string_values = cleaned_string.split()\n",
    "\n",
    "    # Convert each string value to a float\n",
    "    float_values = [float(value) for value in string_values]\n",
    "\n",
    "    # Convert the list of floats to a NumPy array\n",
    "    vector = np.array(float_values)\n",
    "\n",
    "    # Now, 'vector' is a NumPy array representing your vector\n",
    "    return vector"
   ]
  },
  {
   "cell_type": "code",
   "execution_count": 9,
   "id": "c77a2347",
   "metadata": {},
   "outputs": [],
   "source": [
    "dataset = pd.DataFrame()"
   ]
  },
  {
   "cell_type": "code",
   "execution_count": 10,
   "id": "9a26a0ac",
   "metadata": {},
   "outputs": [],
   "source": [
    "dataset['bert_vectors'] = data['bert_vectors'].apply(str_to_vec)"
   ]
  },
  {
   "cell_type": "code",
   "execution_count": 11,
   "id": "0c4306a1",
   "metadata": {
    "scrolled": false
   },
   "outputs": [
    {
     "data": {
      "text/html": [
       "<div>\n",
       "<style scoped>\n",
       "    .dataframe tbody tr th:only-of-type {\n",
       "        vertical-align: middle;\n",
       "    }\n",
       "\n",
       "    .dataframe tbody tr th {\n",
       "        vertical-align: top;\n",
       "    }\n",
       "\n",
       "    .dataframe thead th {\n",
       "        text-align: right;\n",
       "    }\n",
       "</style>\n",
       "<table border=\"1\" class=\"dataframe\">\n",
       "  <thead>\n",
       "    <tr style=\"text-align: right;\">\n",
       "      <th></th>\n",
       "      <th>bert_vectors</th>\n",
       "    </tr>\n",
       "  </thead>\n",
       "  <tbody>\n",
       "    <tr>\n",
       "      <th>0</th>\n",
       "      <td>[0.5142972, 0.09474187, 0.41039863, -0.0868460...</td>\n",
       "    </tr>\n",
       "    <tr>\n",
       "      <th>1</th>\n",
       "      <td>[0.60709447, 0.24507785, 0.30069906, -0.095903...</td>\n",
       "    </tr>\n",
       "    <tr>\n",
       "      <th>2</th>\n",
       "      <td>[0.12725917, 0.07618354, 0.5803481, 0.0858818,...</td>\n",
       "    </tr>\n",
       "    <tr>\n",
       "      <th>3</th>\n",
       "      <td>[0.47318235, 0.566805065, 0.370653301, -0.0819...</td>\n",
       "    </tr>\n",
       "    <tr>\n",
       "      <th>4</th>\n",
       "      <td>[0.50476366, 0.16474849, 0.34438178, 0.0673463...</td>\n",
       "    </tr>\n",
       "    <tr>\n",
       "      <th>...</th>\n",
       "      <td>...</td>\n",
       "    </tr>\n",
       "    <tr>\n",
       "      <th>81403</th>\n",
       "      <td>[0.227706909, -0.0400034375, 0.559347928, -0.1...</td>\n",
       "    </tr>\n",
       "    <tr>\n",
       "      <th>81404</th>\n",
       "      <td>[0.21134636, 0.16012657, 0.7607299, -0.1957732...</td>\n",
       "    </tr>\n",
       "    <tr>\n",
       "      <th>81405</th>\n",
       "      <td>[0.39612132, 0.26797482, 0.8456364, -0.2229413...</td>\n",
       "    </tr>\n",
       "    <tr>\n",
       "      <th>81406</th>\n",
       "      <td>[0.35054675, -0.17652354, 0.36843812, -0.00235...</td>\n",
       "    </tr>\n",
       "    <tr>\n",
       "      <th>81407</th>\n",
       "      <td>[0.34130692, 0.04276937, 0.69224215, -0.030625...</td>\n",
       "    </tr>\n",
       "  </tbody>\n",
       "</table>\n",
       "<p>81408 rows × 1 columns</p>\n",
       "</div>"
      ],
      "text/plain": [
       "                                            bert_vectors\n",
       "0      [0.5142972, 0.09474187, 0.41039863, -0.0868460...\n",
       "1      [0.60709447, 0.24507785, 0.30069906, -0.095903...\n",
       "2      [0.12725917, 0.07618354, 0.5803481, 0.0858818,...\n",
       "3      [0.47318235, 0.566805065, 0.370653301, -0.0819...\n",
       "4      [0.50476366, 0.16474849, 0.34438178, 0.0673463...\n",
       "...                                                  ...\n",
       "81403  [0.227706909, -0.0400034375, 0.559347928, -0.1...\n",
       "81404  [0.21134636, 0.16012657, 0.7607299, -0.1957732...\n",
       "81405  [0.39612132, 0.26797482, 0.8456364, -0.2229413...\n",
       "81406  [0.35054675, -0.17652354, 0.36843812, -0.00235...\n",
       "81407  [0.34130692, 0.04276937, 0.69224215, -0.030625...\n",
       "\n",
       "[81408 rows x 1 columns]"
      ]
     },
     "execution_count": 11,
     "metadata": {},
     "output_type": "execute_result"
    }
   ],
   "source": [
    "dataset"
   ]
  },
  {
   "cell_type": "code",
   "execution_count": 12,
   "id": "b7c112da",
   "metadata": {},
   "outputs": [
    {
     "name": "stdout",
     "output_type": "stream",
     "text": [
      "81408\n"
     ]
    }
   ],
   "source": [
    "print(len(data['bert_vectors']))"
   ]
  },
  {
   "cell_type": "code",
   "execution_count": 13,
   "id": "cd93a013",
   "metadata": {},
   "outputs": [
    {
     "data": {
      "text/plain": [
       "array([ 0.5142972 ,  0.09474187,  0.41039863, -0.08684609,  0.2877095 ,\n",
       "       -0.16383709,  0.40892476,  0.44171068, -0.01723384, -0.26785442,\n",
       "       -0.16827619, -0.22784133, -0.31953806,  0.275655  , -0.10393742,\n",
       "        0.49432114, -0.02620821,  0.2063558 , -0.23674724,  0.25816718,\n",
       "        0.34353077,  0.0214939 , -0.13152978,  0.11771113,  0.49273565,\n",
       "       -0.15442434,  0.10735898, -0.15738115, -0.3916646 , -0.16478181,\n",
       "        0.49133274, -0.04270812,  0.237843  , -0.20905466,  0.06037405,\n",
       "       -0.17967163, -0.31194413, -0.0389487 ,  0.29511118,  0.44777897,\n",
       "       -0.36570454, -0.5686758 ,  0.19408512,  0.02260724, -0.31137243,\n",
       "       -0.28884372,  0.2681975 ,  0.26582816,  0.33216658, -0.15465686,\n",
       "       -0.2563196 ,  0.3087412 , -0.09471447, -0.08942274,  0.0777904 ,\n",
       "        0.74242663,  0.3745379 , -0.45100695, -0.43329164, -0.02466331,\n",
       "       -0.16693549,  0.08048202,  0.26112032, -0.30901015,  0.12328291,\n",
       "        0.21376407, -0.0388822 ,  0.6823772 , -1.0520166 ,  0.28137955,\n",
       "       -0.01561841, -0.03059365, -0.06478383,  0.13605814,  0.01955121,\n",
       "        0.20722364, -0.10848905,  0.6780405 ,  0.31807926, -0.0370811 ,\n",
       "        0.05020353,  0.16420896,  0.10430315,  0.38346   ,  0.19076318,\n",
       "        0.27409777,  0.11541953, -0.00839414, -0.60080236,  0.47035944,\n",
       "       -0.05057348,  0.08532551,  0.19232303,  0.20832938,  0.40885463,\n",
       "       -0.42770848,  0.01001668, -0.3563449 , -0.24444808,  0.3981791 ,\n",
       "        0.30680826, -0.26975936, -0.02268203,  0.10180932, -0.46551192,\n",
       "        0.16729726, -0.01927103, -0.12172183,  0.12085328,  0.32595316,\n",
       "        0.14308026,  0.17479685, -0.05908208, -0.4421207 ,  0.24812964,\n",
       "        0.16455555,  0.15420035,  0.206105  ,  0.23889849,  0.03915282,\n",
       "       -0.02392515,  0.22758889,  0.21866032,  0.78823656,  0.20028736,\n",
       "        0.3199013 , -0.40904292,  0.2744289 ,  0.16341347,  0.12637198,\n",
       "        0.41490802,  0.29418418, -0.08437694, -0.54106766, -0.11171681,\n",
       "       -0.07831711, -0.02037072, -0.10411447, -0.11889234, -0.14834784,\n",
       "       -0.08240354, -0.39731655,  0.12649344,  0.1883826 ,  0.09964897,\n",
       "       -0.01768736,  0.12272178,  0.03364825, -0.17410624,  0.5015001 ])"
      ]
     },
     "execution_count": 13,
     "metadata": {},
     "output_type": "execute_result"
    }
   ],
   "source": [
    "dataset['bert_vectors'][0]"
   ]
  },
  {
   "cell_type": "markdown",
   "id": "7e21bbfe",
   "metadata": {},
   "source": [
    "### Create Input and Output"
   ]
  },
  {
   "cell_type": "code",
   "execution_count": 14,
   "id": "963f9f10",
   "metadata": {},
   "outputs": [],
   "source": [
    "def create_input_vectors(vector):\n",
    "    n = len(vector)\n",
    "    array_2d = np.empty((n, len(vector[0])), dtype=object)\n",
    "\n",
    "    # Create and insert 10 random 5D arrays into the 2D array\n",
    "    for i in range(n):\n",
    "        array_150d = vector[i]\n",
    "        array_2d[i] = array_150d\n",
    "\n",
    "    return array_2d\n"
   ]
  },
  {
   "cell_type": "code",
   "execution_count": 15,
   "id": "17f55c08",
   "metadata": {},
   "outputs": [],
   "source": [
    "input_vec = create_input_vectors(dataset['bert_vectors'])"
   ]
  },
  {
   "cell_type": "code",
   "execution_count": 16,
   "id": "99ac8be3",
   "metadata": {},
   "outputs": [
    {
     "name": "stdout",
     "output_type": "stream",
     "text": [
      "<class 'numpy.ndarray'>\n"
     ]
    }
   ],
   "source": [
    "print(type(input_vec))"
   ]
  },
  {
   "cell_type": "code",
   "execution_count": 17,
   "id": "febbf2fe",
   "metadata": {},
   "outputs": [
    {
     "name": "stdout",
     "output_type": "stream",
     "text": [
      "2\n"
     ]
    }
   ],
   "source": [
    "print(input_vec.ndim)"
   ]
  },
  {
   "cell_type": "code",
   "execution_count": 18,
   "id": "8227abc3",
   "metadata": {},
   "outputs": [],
   "source": [
    "mapping_dict = {'figurative': 0, 'irony': 1, 'sarcasm': 1, 'regular': 0}\n",
    "\n",
    "# Use map to replace string values with numerical values\n",
    "output = data['class'].map(mapping_dict).to_numpy()"
   ]
  },
  {
   "cell_type": "code",
   "execution_count": 19,
   "id": "309fd91d",
   "metadata": {},
   "outputs": [
    {
     "name": "stdout",
     "output_type": "stream",
     "text": [
      "1\n"
     ]
    }
   ],
   "source": [
    "print(output.ndim)"
   ]
  },
  {
   "cell_type": "code",
   "execution_count": 20,
   "id": "c3ec5907",
   "metadata": {},
   "outputs": [
    {
     "name": "stdout",
     "output_type": "stream",
     "text": [
      "<class 'numpy.ndarray'>\n"
     ]
    }
   ],
   "source": [
    "print(type(output))"
   ]
  },
  {
   "cell_type": "code",
   "execution_count": 21,
   "id": "33ea304c",
   "metadata": {},
   "outputs": [
    {
     "data": {
      "text/plain": [
       "array([0, 0, 0, ..., 1, 1, 1], dtype=int64)"
      ]
     },
     "execution_count": 21,
     "metadata": {},
     "output_type": "execute_result"
    }
   ],
   "source": [
    "output"
   ]
  },
  {
   "cell_type": "markdown",
   "id": "43bfd4b2",
   "metadata": {},
   "source": [
    "### Data Splitting"
   ]
  },
  {
   "cell_type": "code",
   "execution_count": 22,
   "id": "14535cc3",
   "metadata": {},
   "outputs": [],
   "source": [
    "def split_data(array_2d, ranges_to_copy):\n",
    "    copied_ranges = []\n",
    "\n",
    "    # Loop through each range and copy the corresponding elements\n",
    "    for start, end in ranges_to_copy:\n",
    "        copied_range = array_2d[start:end+1]  # Adjust end index to include the last element\n",
    "        copied_ranges.append(copied_range)\n",
    "\n",
    "    # Concatenate the copied ranges along the first axis to create the final array\n",
    "    copied_array = np.concatenate(copied_ranges, axis=0)\n",
    "\n",
    "    return copied_array"
   ]
  },
  {
   "cell_type": "code",
   "execution_count": 23,
   "id": "f524eeb3",
   "metadata": {},
   "outputs": [],
   "source": [
    "x_train = split_data(input_vec, [(0, 16989), (21238, 37952), (42132, 57007), (60727, 77270)])\n",
    "x_test = split_data(input_vec, [(16990, 21237), (37953, 42131), (57008, 60726), (77271, 81407)])"
   ]
  },
  {
   "cell_type": "code",
   "execution_count": 24,
   "id": "28449c2e",
   "metadata": {},
   "outputs": [
    {
     "name": "stdout",
     "output_type": "stream",
     "text": [
      "x train: 65125\n",
      "x test: 16283\n",
      "Total: 81408\n"
     ]
    }
   ],
   "source": [
    "print(\"x train:\", len(x_train))\n",
    "print(\"x test:\", len(x_test))\n",
    "print(\"Total:\", len(x_train) + len(x_test))"
   ]
  },
  {
   "cell_type": "code",
   "execution_count": 25,
   "id": "24eebbec",
   "metadata": {},
   "outputs": [],
   "source": [
    "y_train = np.concatenate((np.zeros(16990), np.ones(31591), np.zeros(16544)))\n",
    "y_test = np.concatenate((np.zeros(4248), np.ones(7898), np.zeros(4137)))"
   ]
  },
  {
   "cell_type": "code",
   "execution_count": 26,
   "id": "ad5fa155",
   "metadata": {},
   "outputs": [
    {
     "name": "stdout",
     "output_type": "stream",
     "text": [
      "train: 65125\n",
      "test: 16283\n",
      "total: 81408\n"
     ]
    }
   ],
   "source": [
    "print(\"train:\", len(y_train))\n",
    "print(\"test:\", len(y_test))\n",
    "print(\"total:\", len(y_train) + len(y_test))"
   ]
  },
  {
   "cell_type": "markdown",
   "id": "89ba1dae",
   "metadata": {},
   "source": [
    "## Training With Neural Network"
   ]
  },
  {
   "cell_type": "code",
   "execution_count": 27,
   "id": "cf0b9de2",
   "metadata": {},
   "outputs": [
    {
     "name": "stdout",
     "output_type": "stream",
     "text": [
      "WARNING:tensorflow:From C:\\Users\\Harsh Bari\\AppData\\Local\\Programs\\Python\\Python310\\lib\\site-packages\\keras\\src\\losses.py:2976: The name tf.losses.sparse_softmax_cross_entropy is deprecated. Please use tf.compat.v1.losses.sparse_softmax_cross_entropy instead.\n",
      "\n"
     ]
    }
   ],
   "source": [
    "import tensorflow as tf\n",
    "from tensorflow import keras"
   ]
  },
  {
   "cell_type": "markdown",
   "id": "d2cb9a3a",
   "metadata": {},
   "source": [
    "### Neural Network for Average Word Embedding"
   ]
  },
  {
   "cell_type": "code",
   "execution_count": 28,
   "id": "094e0dc8",
   "metadata": {},
   "outputs": [
    {
     "name": "stdout",
     "output_type": "stream",
     "text": [
      "WARNING:tensorflow:From C:\\Users\\Harsh Bari\\AppData\\Local\\Programs\\Python\\Python310\\lib\\site-packages\\keras\\src\\backend.py:873: The name tf.get_default_graph is deprecated. Please use tf.compat.v1.get_default_graph instead.\n",
      "\n",
      "WARNING:tensorflow:From C:\\Users\\Harsh Bari\\AppData\\Local\\Programs\\Python\\Python310\\lib\\site-packages\\keras\\src\\optimizers\\__init__.py:309: The name tf.train.Optimizer is deprecated. Please use tf.compat.v1.train.Optimizer instead.\n",
      "\n"
     ]
    }
   ],
   "source": [
    "awe = keras.Sequential([\n",
    "    keras.layers.Dense(256, input_shape = (150, ), activation = 'relu'),\n",
    "    keras.layers.Dense(128, activation = 'relu'),\n",
    "    keras.layers.Dense(64, activation = 'relu'),\n",
    "    keras.layers.Dense(32, activation = 'relu'),\n",
    "    keras.layers.Dense(16, activation=keras.layers.LeakyReLU(alpha=0.1)),\n",
    "    keras.layers.Dense(8, activation=keras.layers.LeakyReLU(alpha=0.1)),\n",
    "    keras.layers.Dense(2, activation = 'sigmoid')\n",
    "\n",
    "])\n",
    "\n",
    "awe.compile(optimizer = 'adam',\n",
    "                      loss = 'sparse_categorical_crossentropy',\n",
    "                      metrics = ['accuracy'])"
   ]
  },
  {
   "cell_type": "markdown",
   "id": "d8fab9f2",
   "metadata": {},
   "source": [
    "### Check Model Summary"
   ]
  },
  {
   "cell_type": "code",
   "execution_count": 29,
   "id": "6c29bb1e",
   "metadata": {},
   "outputs": [
    {
     "name": "stdout",
     "output_type": "stream",
     "text": [
      "Model: \"sequential\"\n",
      "_________________________________________________________________\n",
      " Layer (type)                Output Shape              Param #   \n",
      "=================================================================\n",
      " dense (Dense)               (None, 256)               38656     \n",
      "                                                                 \n",
      " dense_1 (Dense)             (None, 128)               32896     \n",
      "                                                                 \n",
      " dense_2 (Dense)             (None, 64)                8256      \n",
      "                                                                 \n",
      " dense_3 (Dense)             (None, 32)                2080      \n",
      "                                                                 \n",
      " dense_4 (Dense)             (None, 16)                528       \n",
      "                                                                 \n",
      " dense_5 (Dense)             (None, 8)                 136       \n",
      "                                                                 \n",
      " dense_6 (Dense)             (None, 2)                 18        \n",
      "                                                                 \n",
      "=================================================================\n",
      "Total params: 82570 (322.54 KB)\n",
      "Trainable params: 82570 (322.54 KB)\n",
      "Non-trainable params: 0 (0.00 Byte)\n",
      "_________________________________________________________________\n"
     ]
    }
   ],
   "source": [
    "awe.summary()"
   ]
  },
  {
   "cell_type": "markdown",
   "id": "0d0799bd",
   "metadata": {},
   "source": [
    "### Train Model"
   ]
  },
  {
   "cell_type": "code",
   "execution_count": 30,
   "id": "68a29ca0",
   "metadata": {},
   "outputs": [
    {
     "name": "stdout",
     "output_type": "stream",
     "text": [
      "Epoch 1/22\n",
      "WARNING:tensorflow:From C:\\Users\\Harsh Bari\\AppData\\Local\\Programs\\Python\\Python310\\lib\\site-packages\\keras\\src\\utils\\tf_utils.py:492: The name tf.ragged.RaggedTensorValue is deprecated. Please use tf.compat.v1.ragged.RaggedTensorValue instead.\n",
      "\n",
      "WARNING:tensorflow:From C:\\Users\\Harsh Bari\\AppData\\Local\\Programs\\Python\\Python310\\lib\\site-packages\\keras\\src\\engine\\base_layer_utils.py:384: The name tf.executing_eagerly_outside_functions is deprecated. Please use tf.compat.v1.executing_eagerly_outside_functions instead.\n",
      "\n",
      "2036/2036 [==============================] - 9s 3ms/step - loss: 0.4457 - accuracy: 0.7695\n",
      "Epoch 2/22\n",
      "2036/2036 [==============================] - 7s 4ms/step - loss: 0.4040 - accuracy: 0.7932\n",
      "Epoch 3/22\n",
      "2036/2036 [==============================] - 7s 3ms/step - loss: 0.3901 - accuracy: 0.7989\n",
      "Epoch 4/22\n",
      "2036/2036 [==============================] - 7s 4ms/step - loss: 0.3812 - accuracy: 0.8031\n",
      "Epoch 5/22\n",
      "2036/2036 [==============================] - 7s 3ms/step - loss: 0.3734 - accuracy: 0.8069\n",
      "Epoch 6/22\n",
      "2036/2036 [==============================] - 7s 3ms/step - loss: 0.3664 - accuracy: 0.8109\n",
      "Epoch 7/22\n",
      "2036/2036 [==============================] - 7s 3ms/step - loss: 0.3597 - accuracy: 0.8131\n",
      "Epoch 8/22\n",
      "2036/2036 [==============================] - 7s 4ms/step - loss: 0.3552 - accuracy: 0.8154\n",
      "Epoch 9/22\n",
      "2036/2036 [==============================] - 7s 3ms/step - loss: 0.3509 - accuracy: 0.8165\n",
      "Epoch 10/22\n",
      "2036/2036 [==============================] - 7s 3ms/step - loss: 0.3450 - accuracy: 0.8195\n",
      "Epoch 11/22\n",
      "2036/2036 [==============================] - 7s 3ms/step - loss: 0.3401 - accuracy: 0.8212\n",
      "Epoch 12/22\n",
      "2036/2036 [==============================] - 7s 3ms/step - loss: 0.3355 - accuracy: 0.8237\n",
      "Epoch 13/22\n",
      "2036/2036 [==============================] - 7s 3ms/step - loss: 0.3319 - accuracy: 0.8258\n",
      "Epoch 14/22\n",
      "2036/2036 [==============================] - 7s 3ms/step - loss: 0.3267 - accuracy: 0.8286\n",
      "Epoch 15/22\n",
      "2036/2036 [==============================] - 7s 3ms/step - loss: 0.3242 - accuracy: 0.8302\n",
      "Epoch 16/22\n",
      "2036/2036 [==============================] - 7s 3ms/step - loss: 0.3197 - accuracy: 0.8313\n",
      "Epoch 17/22\n",
      "2036/2036 [==============================] - 7s 3ms/step - loss: 0.3164 - accuracy: 0.8338\n",
      "Epoch 18/22\n",
      "2036/2036 [==============================] - 6s 3ms/step - loss: 0.3128 - accuracy: 0.8339\n",
      "Epoch 19/22\n",
      "2036/2036 [==============================] - 7s 3ms/step - loss: 0.3102 - accuracy: 0.8360\n",
      "Epoch 20/22\n",
      "2036/2036 [==============================] - 7s 3ms/step - loss: 0.3063 - accuracy: 0.8383\n",
      "Epoch 21/22\n",
      "2036/2036 [==============================] - 7s 4ms/step - loss: 0.3048 - accuracy: 0.8376\n",
      "Epoch 22/22\n",
      "2036/2036 [==============================] - 7s 4ms/step - loss: 0.3024 - accuracy: 0.8391\n"
     ]
    },
    {
     "data": {
      "text/plain": [
       "<keras.src.callbacks.History at 0x152a6742e90>"
      ]
     },
     "execution_count": 30,
     "metadata": {},
     "output_type": "execute_result"
    }
   ],
   "source": [
    "awe.fit(x_train.astype(np.float32), y_train.astype(np.float32), epochs=22)"
   ]
  },
  {
   "cell_type": "markdown",
   "id": "9f32f7c4",
   "metadata": {},
   "source": [
    "### Training Accuracy"
   ]
  },
  {
   "cell_type": "code",
   "execution_count": 31,
   "id": "d3c319b6",
   "metadata": {},
   "outputs": [
    {
     "name": "stdout",
     "output_type": "stream",
     "text": [
      "2036/2036 [==============================] - 6s 3ms/step - loss: 0.2876 - accuracy: 0.8467\n"
     ]
    },
    {
     "data": {
      "text/plain": [
       "[0.28764575719833374, 0.8467255234718323]"
      ]
     },
     "execution_count": 31,
     "metadata": {},
     "output_type": "execute_result"
    }
   ],
   "source": [
    "awe.evaluate(x_train.astype(np.float32), y_train.astype(np.float32))"
   ]
  },
  {
   "cell_type": "markdown",
   "id": "b47389ca",
   "metadata": {},
   "source": [
    "### Testing Accuracy"
   ]
  },
  {
   "cell_type": "code",
   "execution_count": 32,
   "id": "156c7210",
   "metadata": {},
   "outputs": [
    {
     "name": "stdout",
     "output_type": "stream",
     "text": [
      "509/509 [==============================] - 1s 2ms/step\n"
     ]
    }
   ],
   "source": [
    "prediction = awe.predict(x_test.astype(np.float32))"
   ]
  },
  {
   "cell_type": "code",
   "execution_count": 33,
   "id": "47314e7e",
   "metadata": {},
   "outputs": [],
   "source": [
    "prediction = np.argmax(prediction, axis = 1)"
   ]
  },
  {
   "cell_type": "code",
   "execution_count": 34,
   "id": "fba7a7d7",
   "metadata": {},
   "outputs": [],
   "source": [
    "from sklearn.metrics import classification_report, confusion_matrix, accuracy_score"
   ]
  },
  {
   "cell_type": "code",
   "execution_count": 35,
   "id": "9c771ac2",
   "metadata": {},
   "outputs": [
    {
     "name": "stdout",
     "output_type": "stream",
     "text": [
      "              precision    recall  f1-score   support\n",
      "\n",
      "         0.0       0.88      0.76      0.81      8385\n",
      "         1.0       0.77      0.90      0.83      7898\n",
      "\n",
      "    accuracy                           0.82     16283\n",
      "   macro avg       0.83      0.83      0.82     16283\n",
      "weighted avg       0.83      0.82      0.82     16283\n",
      "\n",
      "\n",
      "Confusion Matrix: \n",
      " [[6331 2054]\n",
      " [ 827 7071]]\n",
      "\n",
      "Accuracy: \n",
      " 0.8230670023951361\n"
     ]
    }
   ],
   "source": [
    "print(classification_report(y_test.astype(np.float32), prediction))\n",
    "print()\n",
    "print(\"Confusion Matrix: \\n\", confusion_matrix(y_test.astype(np.float32), prediction))\n",
    "print(\"\\nAccuracy: \\n\", accuracy_score(y_test.astype(np.float32), prediction))"
   ]
  }
 ],
 "metadata": {
  "kernelspec": {
   "display_name": "Python 3 (ipykernel)",
   "language": "python",
   "name": "python3"
  },
  "language_info": {
   "codemirror_mode": {
    "name": "ipython",
    "version": 3
   },
   "file_extension": ".py",
   "mimetype": "text/x-python",
   "name": "python",
   "nbconvert_exporter": "python",
   "pygments_lexer": "ipython3",
   "version": "3.10.2"
  }
 },
 "nbformat": 4,
 "nbformat_minor": 5
}
